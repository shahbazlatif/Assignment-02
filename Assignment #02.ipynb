{
 "cells": [
  {
   "cell_type": "code",
   "execution_count": 9,
   "metadata": {},
   "outputs": [
    {
     "name": "stdout",
     "output_type": "stream",
     "text": [
      "Enter a Number3\n",
      "Positive Number\n"
     ]
    }
   ],
   "source": [
    "#Task 1\n",
    "n=int(input(\"Enter a Number\"))\n",
    "if n>=0:\n",
    "        print(\"Positive Number\")\n",
    "\n",
    "\n",
    "else:\n",
    "    print(\"negative number\")\n",
    "    \n"
   ]
  },
  {
   "cell_type": "code",
   "execution_count": 11,
   "metadata": {},
   "outputs": [
    {
     "name": "stdout",
     "output_type": "stream",
     "text": [
      "Enter Subject1 Marks200\n",
      "Enter Subject2 Marks49\n",
      "Enter Subject3 Marks45\n",
      "Enter Subject4 Marks23\n",
      "Enter Subject5 Marks45\n",
      "A Grade\n"
     ]
    }
   ],
   "source": [
    "#task2\n",
    "S1=float(input(\"Enter Subject1 Marks\"))\n",
    "S2=float(input(\"Enter Subject2 Marks\"))\n",
    "S3=float(input(\"Enter Subject3 Marks\"))\n",
    "S4=float(input(\"Enter Subject4 Marks\"))\n",
    "S5=float(input(\"Enter Subject5 Marks\"))\n",
    "Average=(S1+S2+S3+S3+S4+S5)/5\n",
    "if(Average>80):\n",
    "    print(\"A Grade\")\n",
    "elif(Average>70&Average<80):\n",
    "    print (\"B Grade\")\n",
    "elif(Average>60&Average<70):\n",
    "    print (\"C Grade\")\n",
    "elif(Average>50&Average<60):\n",
    "    print(\"D Grade\")\n",
    "else:\n",
    "    print(\"F Grade\")\n",
    "    "
   ]
  },
  {
   "cell_type": "code",
   "execution_count": 12,
   "metadata": {},
   "outputs": [
    {
     "name": "stdout",
     "output_type": "stream",
     "text": [
      "Enter 1st Number23\n",
      "Enter 2nd Number23\n",
      "quotient ya ha 1\n",
      "remainder ya ha  0\n"
     ]
    }
   ],
   "source": [
    "#Task 3\n",
    "num1=int(input(\"Enter 1st Number\"))\n",
    "num2=int(input(\"Enter 2nd Number\"))\n",
    "quotient=num1//num2\n",
    "remainder=num1%num2\n",
    "print (\"quotient ya ha\",quotient)\n",
    "print (\"remainder ya ha \",remainder)"
   ]
  },
  {
   "cell_type": "code",
   "execution_count": 13,
   "metadata": {},
   "outputs": [
    {
     "name": "stdout",
     "output_type": "stream",
     "text": [
      "\n",
      "Values which is not divisible by 2: 1\n",
      "Values which is not divisible by 3: 2\n",
      "Values which is not divisible by 2: 3\n",
      "Values which is not divisible by 3: 4\n",
      "Values which is not divisible by 2: 5\n",
      "\n",
      "Values which is not divisible by 2: 7\n",
      "Values which is not divisible by 3: 8\n",
      "Values which is not divisible by 2: 9\n",
      "Values which is not divisible by 3: 10\n",
      "Values which is not divisible by 2: 11\n",
      "\n",
      "Values which is not divisible by 2: 13\n",
      "Values which is not divisible by 3: 14\n",
      "Values which is not divisible by 2: 15\n",
      "Values which is not divisible by 3: 16\n",
      "Values which is not divisible by 2: 17\n",
      "\n",
      "Values which is not divisible by 2: 19\n",
      "Values which is not divisible by 3: 20\n",
      "Values which is not divisible by 2: 21\n",
      "Values which is not divisible by 3: 22\n",
      "Values which is not divisible by 2: 23\n",
      "\n",
      "Values which is not divisible by 2: 25\n",
      "Values which is not divisible by 3: 26\n",
      "Values which is not divisible by 2: 27\n",
      "Values which is not divisible by 3: 28\n",
      "Values which is not divisible by 2: 29\n",
      "\n",
      "Values which is not divisible by 2: 31\n",
      "Values which is not divisible by 3: 32\n",
      "Values which is not divisible by 2: 33\n",
      "Values which is not divisible by 3: 34\n",
      "Values which is not divisible by 2: 35\n",
      "\n",
      "Values which is not divisible by 2: 37\n",
      "Values which is not divisible by 3: 38\n",
      "Values which is not divisible by 2: 39\n",
      "Values which is not divisible by 3: 40\n",
      "Values which is not divisible by 2: 41\n",
      "\n",
      "Values which is not divisible by 2: 43\n",
      "Values which is not divisible by 3: 44\n",
      "Values which is not divisible by 2: 45\n",
      "Values which is not divisible by 3: 46\n",
      "Values which is not divisible by 2: 47\n",
      "\n",
      "Values which is not divisible by 2: 49\n",
      "Values which is not divisible by 3: 50\n"
     ]
    }
   ],
   "source": [
    "# task 4\n",
    "for n in range(0,51):\n",
    "    if(n%2!=0):\n",
    "        print(\"Values which is not divisible by 2:\",n)\n",
    "    elif(n%3!=0):\n",
    "        print(\"Values which is not divisible by 3:\",n)\n",
    "    else:\n",
    "        print(\"\")\n",
    "        \n",
    "\n",
    "       \n",
    "    "
   ]
  },
  {
   "cell_type": "code",
   "execution_count": 23,
   "metadata": {},
   "outputs": [
    {
     "name": "stdout",
     "output_type": "stream",
     "text": [
      "Enter Number15\n",
      "Enter Number26\n",
      "number1 is : 6 number2 is : 5\n"
     ]
    }
   ],
   "source": [
    "# Task 5\n",
    "num1=int(input(\"Enter Number1\"))\n",
    "num2=int(input(\"Enter Number2\"))\n",
    "num1=num1+num2\n",
    "num2=num1-num2\n",
    "num1=num1-num2\n",
    "print (\"number1 is :\",num1,\"number2 is :\",num2)\n",
    "\n"
   ]
  },
  {
   "cell_type": "code",
   "execution_count": 27,
   "metadata": {},
   "outputs": [
    {
     "name": "stdout",
     "output_type": "stream",
     "text": [
      "Enter side 1:3\n",
      "Enter Side 2:5\n",
      "Enter side 3:7\n",
      "Area of the triangle is:  6.5\n"
     ]
    }
   ],
   "source": [
    "#Task 6\n",
    "import math\n",
    "side1=int(input(\"Enter side 1:\"))\n",
    "side2=int(input(\"Enter Side 2:\"))\n",
    "side3=int(input(\"Enter side 3:\"))\n",
    "s=(side1+side2+side3)/2\n",
    "area=math.sqrt(s*(s-side1)*(s-side2)*(s-side3))\n",
    "print(\"Area of the triangle is: \",round(area,2))\n"
   ]
  },
  {
   "cell_type": "markdown",
   "metadata": {},
   "source": [
    "# Task 7\n",
    "num=[]\n",
    "n=int(input(\"Enter range of numbers how much you want\"))\n",
    "for i in range(1,n):\n",
    "    num2=int(input(\"Enter element:\"))\n",
    "    num.append(num2)\n",
    "even=[]\n",
    "odd=[]\n",
    "for j in a:\n",
    "    if(j%2==0):\n",
    "        even.append(j)\n",
    "    else:\n",
    "        odd.append(j)\n",
    "print(\"The even list\",even)\n",
    "print(\"The odd list\",odd)"
   ]
  },
  {
   "cell_type": "markdown",
   "metadata": {},
   "source": [
    "###### num=[] \n",
    "n=int(input(\"Enter range of numbers how much you want\"))\n",
    "for i in range(1,n):\n",
    "    num2=int(input(\"Enter element:\"))\n",
    "    num.append(num2) \n",
    "    even=[] \n",
    "    odd=[]\n",
    "for j in a: \n",
    "    if(j%2==0):\n",
    "            even.append(j)\n",
    "    else: \n",
    "            odd.append(j) \n",
    "    print(\"The even list\",even) \n",
    "    print(\"The odd list\",odd)"
   ]
  },
  {
   "cell_type": "code",
   "execution_count": 31,
   "metadata": {},
   "outputs": [
    {
     "name": "stdout",
     "output_type": "stream",
     "text": [
      "Enter number of elements:3\n",
      "Enter element:12\n",
      "Enter element:312\n",
      "Enter element:14\n",
      "The even list [12, 312, 14]\n",
      "The odd list []\n"
     ]
    }
   ],
   "source": [
    "#Task 7\n",
    "a=[]\n",
    "n=int(input(\"Enter number of elements:\"))\n",
    "for i in range(1,n+1):\n",
    "    b=int(input(\"Enter element:\"))\n",
    "    a.append(b)\n",
    "even=[]\n",
    "odd=[]\n",
    "for j in a:\n",
    "    if(j%2==0):\n",
    "        even.append(j)\n",
    "    else:\n",
    "        odd.append(j)\n",
    "print(\"The even list\",even)\n",
    "print(\"The odd list\",odd)"
   ]
  },
  {
   "cell_type": "code",
   "execution_count": 38,
   "metadata": {},
   "outputs": [
    {
     "name": "stdout",
     "output_type": "stream",
     "text": [
      "Enter number of elements:3\n",
      "Enter element:42\n",
      "Enter element:25\n",
      "Enter element:23\n",
      "Second largest element is: 25\n"
     ]
    }
   ],
   "source": [
    "#Task 8\n",
    "listt=[]\n",
    "n=int(input(\"Enter number of elements:\"))\n",
    "for i in range(0,n):\n",
    "    b=int(input(\"Enter element:\"))\n",
    "    listt.append(b)\n",
    "listt.sort()\n",
    "print(\"Second largest element is:\",listt[n-2])"
   ]
  },
  {
   "cell_type": "code",
   "execution_count": null,
   "metadata": {},
   "outputs": [],
   "source": [
    "#task 9\n"
   ]
  }
 ],
 "metadata": {
  "kernelspec": {
   "display_name": "Python 3",
   "language": "python",
   "name": "python3"
  },
  "language_info": {
   "codemirror_mode": {
    "name": "ipython",
    "version": 3
   },
   "file_extension": ".py",
   "mimetype": "text/x-python",
   "name": "python",
   "nbconvert_exporter": "python",
   "pygments_lexer": "ipython3",
   "version": "3.7.4"
  }
 },
 "nbformat": 4,
 "nbformat_minor": 2
}
